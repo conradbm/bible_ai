{
 "cells": [
  {
   "cell_type": "markdown",
   "metadata": {},
   "source": [
    "## bible.ai\n",
    "\n",
    "The objective of this script is to crawl through the entire archive of https://www.biblehub.com. By doing such, as can gain content relating to\n",
    "every single bible version, its verse by verse text, and all of the related cross references.\n",
    "This is a three-fold project with the objective to discover new relationships between bible verses for pastors, priests, or any spiritual leader.\n",
    "\n",
    "### data.ai - Data Pipeline (<em> Phase 1 of 4 </em>)\n",
    "\n",
    "Phase 1, collect the data with cross references. This is done by crawling the entire https://www.biblehub.com website. We leverage some structure in the site and predictability with related links, and by such, we construct a large data set with everything we need in our vision.\n",
    "\n",
    "### bible.ai - Data Construction (<em> Phase 2 of 4 </em>)\n",
    "\n",
    "Phase 2, we seek to clean and shape the data. A necessary part to any <em>Machine Learning</em> application. \n",
    "\n",
    "### bible.ai - Model Training (<em> Phase 3 of 4 </em>)\n",
    "\n",
    "Phase 3, we seek to utilize the cross references found in the bible as training data. We will learn structure of verses by context and relate that to their cross references. After we do that, we will use a `Recurrent Neural Network (RNN)` to predict based on the sequence of verses without cross references, which ones they should be associated with, to hopefully discover new connections in the bible that were previously not possible to know.\n",
    "\n",
    "### bible.ai - Model Embedding/Deployment (<em> Phase 4 of 4 </em>)\n",
    "\n",
    "Phase 4, the goal at this final stage is to have a clean, serialized model that can take any string, from the bible or not, and refer you to exact places in the bible that we believe are highly related to the text you are researching. This can become useful when studying external books, such as `Plato's Republic` or `The Apostolic Fathers` to discover similar verses, that are not explicitely linked to the bible. The goal of this is to augment the users current capability of research with a tool that blends state of the art predictive analysis with real biblical connectivity, previously unseen. \n",
    "\n",
    "\n",
    "## Further Research\n",
    "\n",
    "We want to build the best product for our customers. In this spirit, why stop with the bible? Do you have literature with well known inter-literary references, or a network of references that is `closed-form`? If so, we can expand our work here from just within the bible to accross multiple domains of literature to give you high verse by verse probabilities that the words you're seeking are related. This type of extension makes literary analysis possible between domains such as psychology, social sciences, philosophy, and much more. Please P.M. to discuss details on your custom solution.\n",
    "\n",
    "This could also be considered as a general application, `lit.ai` to mitigate gaps between social sciences and machine learning."
   ]
  },
  {
   "cell_type": "markdown",
   "metadata": {},
   "source": [
    "## Libraries"
   ]
  },
  {
   "cell_type": "code",
   "execution_count": 1,
   "metadata": {},
   "outputs": [],
   "source": [
    "import requests\n",
    "import re\n",
    "import string\n",
    "from bs4 import BeautifulSoup\n",
    "import bs4\n",
    "import pickle\n",
    "from collections import defaultdict\n"
   ]
  },
  {
   "cell_type": "markdown",
   "metadata": {},
   "source": [
    "## Data Pipeline"
   ]
  },
  {
   "cell_type": "code",
   "execution_count": 6,
   "metadata": {},
   "outputs": [
    {
     "name": "stdout",
     "output_type": "stream",
     "text": [
      "Scraping text.\n",
      "Collecting data on  Genesis 1:1\n",
      "Book:  Genesis\n",
      "Chapter:  1\n",
      "Verse:  1\n"
     ]
    },
    {
     "ename": "KeyboardInterrupt",
     "evalue": "",
     "output_type": "error",
     "traceback": [
      "\u001b[0;31m---------------------------------------------------------------------------\u001b[0m",
      "\u001b[0;31mKeyboardInterrupt\u001b[0m                         Traceback (most recent call last)",
      "\u001b[0;32m~/anaconda3/lib/python3.6/site-packages/ipykernel/kernelbase.py\u001b[0m in \u001b[0;36m_input_request\u001b[0;34m(self, prompt, ident, parent, password)\u001b[0m\n\u001b[1;32m    728\u001b[0m             \u001b[0;32mtry\u001b[0m\u001b[0;34m:\u001b[0m\u001b[0;34m\u001b[0m\u001b[0m\n\u001b[0;32m--> 729\u001b[0;31m                 \u001b[0mident\u001b[0m\u001b[0;34m,\u001b[0m \u001b[0mreply\u001b[0m \u001b[0;34m=\u001b[0m \u001b[0mself\u001b[0m\u001b[0;34m.\u001b[0m\u001b[0msession\u001b[0m\u001b[0;34m.\u001b[0m\u001b[0mrecv\u001b[0m\u001b[0;34m(\u001b[0m\u001b[0mself\u001b[0m\u001b[0;34m.\u001b[0m\u001b[0mstdin_socket\u001b[0m\u001b[0;34m,\u001b[0m \u001b[0;36m0\u001b[0m\u001b[0;34m)\u001b[0m\u001b[0;34m\u001b[0m\u001b[0m\n\u001b[0m\u001b[1;32m    730\u001b[0m             \u001b[0;32mexcept\u001b[0m \u001b[0mException\u001b[0m\u001b[0;34m:\u001b[0m\u001b[0;34m\u001b[0m\u001b[0m\n",
      "\u001b[0;32m~/anaconda3/lib/python3.6/site-packages/jupyter_client/session.py\u001b[0m in \u001b[0;36mrecv\u001b[0;34m(self, socket, mode, content, copy)\u001b[0m\n\u001b[1;32m    802\u001b[0m         \u001b[0;32mtry\u001b[0m\u001b[0;34m:\u001b[0m\u001b[0;34m\u001b[0m\u001b[0m\n\u001b[0;32m--> 803\u001b[0;31m             \u001b[0mmsg_list\u001b[0m \u001b[0;34m=\u001b[0m \u001b[0msocket\u001b[0m\u001b[0;34m.\u001b[0m\u001b[0mrecv_multipart\u001b[0m\u001b[0;34m(\u001b[0m\u001b[0mmode\u001b[0m\u001b[0;34m,\u001b[0m \u001b[0mcopy\u001b[0m\u001b[0;34m=\u001b[0m\u001b[0mcopy\u001b[0m\u001b[0;34m)\u001b[0m\u001b[0;34m\u001b[0m\u001b[0m\n\u001b[0m\u001b[1;32m    804\u001b[0m         \u001b[0;32mexcept\u001b[0m \u001b[0mzmq\u001b[0m\u001b[0;34m.\u001b[0m\u001b[0mZMQError\u001b[0m \u001b[0;32mas\u001b[0m \u001b[0me\u001b[0m\u001b[0;34m:\u001b[0m\u001b[0;34m\u001b[0m\u001b[0m\n",
      "\u001b[0;32m~/anaconda3/lib/python3.6/site-packages/zmq/sugar/socket.py\u001b[0m in \u001b[0;36mrecv_multipart\u001b[0;34m(self, flags, copy, track)\u001b[0m\n\u001b[1;32m    465\u001b[0m         \"\"\"\n\u001b[0;32m--> 466\u001b[0;31m         \u001b[0mparts\u001b[0m \u001b[0;34m=\u001b[0m \u001b[0;34m[\u001b[0m\u001b[0mself\u001b[0m\u001b[0;34m.\u001b[0m\u001b[0mrecv\u001b[0m\u001b[0;34m(\u001b[0m\u001b[0mflags\u001b[0m\u001b[0;34m,\u001b[0m \u001b[0mcopy\u001b[0m\u001b[0;34m=\u001b[0m\u001b[0mcopy\u001b[0m\u001b[0;34m,\u001b[0m \u001b[0mtrack\u001b[0m\u001b[0;34m=\u001b[0m\u001b[0mtrack\u001b[0m\u001b[0;34m)\u001b[0m\u001b[0;34m]\u001b[0m\u001b[0;34m\u001b[0m\u001b[0m\n\u001b[0m\u001b[1;32m    467\u001b[0m         \u001b[0;31m# have first part already, only loop while more to receive\u001b[0m\u001b[0;34m\u001b[0m\u001b[0;34m\u001b[0m\u001b[0m\n",
      "\u001b[0;32mzmq/backend/cython/socket.pyx\u001b[0m in \u001b[0;36mzmq.backend.cython.socket.Socket.recv\u001b[0;34m()\u001b[0m\n",
      "\u001b[0;32mzmq/backend/cython/socket.pyx\u001b[0m in \u001b[0;36mzmq.backend.cython.socket.Socket.recv\u001b[0;34m()\u001b[0m\n",
      "\u001b[0;32mzmq/backend/cython/socket.pyx\u001b[0m in \u001b[0;36mzmq.backend.cython.socket._recv_copy\u001b[0;34m()\u001b[0m\n",
      "\u001b[0;32m~/anaconda3/lib/python3.6/site-packages/zmq/backend/cython/checkrc.pxd\u001b[0m in \u001b[0;36mzmq.backend.cython.checkrc._check_rc\u001b[0;34m()\u001b[0m\n",
      "\u001b[0;31mKeyboardInterrupt\u001b[0m: ",
      "\nDuring handling of the above exception, another exception occurred:\n",
      "\u001b[0;31mKeyboardInterrupt\u001b[0m                         Traceback (most recent call last)",
      "\u001b[0;32m<ipython-input-6-401366e7ffb4>\u001b[0m in \u001b[0;36m<module>\u001b[0;34m()\u001b[0m\n\u001b[1;32m    123\u001b[0m \u001b[0mnext_suffix\u001b[0m\u001b[0;34m=\u001b[0m\u001b[0;34m\"/genesis/1-1.htm\"\u001b[0m\u001b[0;34m\u001b[0m\u001b[0m\n\u001b[1;32m    124\u001b[0m \u001b[0mversion_dict\u001b[0m\u001b[0;34m=\u001b[0m\u001b[0mdefaultdict\u001b[0m\u001b[0;34m(\u001b[0m\u001b[0mdict\u001b[0m\u001b[0;34m)\u001b[0m\u001b[0;34m\u001b[0m\u001b[0m\n\u001b[0;32m--> 125\u001b[0;31m \u001b[0mversion_dict\u001b[0m\u001b[0;34m=\u001b[0m\u001b[0mcrawl_link\u001b[0m\u001b[0;34m(\u001b[0m\u001b[0mbase_prefix\u001b[0m\u001b[0;34m,\u001b[0m \u001b[0mnext_suffix\u001b[0m\u001b[0;34m)\u001b[0m\u001b[0;34m\u001b[0m\u001b[0m\n\u001b[0m",
      "\u001b[0;32m<ipython-input-6-401366e7ffb4>\u001b[0m in \u001b[0;36mcrawl_link\u001b[0;34m(base_prefix, next_suffix)\u001b[0m\n\u001b[1;32m    108\u001b[0m         base,s_next=populate_data_from_link(base,\n\u001b[1;32m    109\u001b[0m                                             \u001b[0ms\u001b[0m\u001b[0;34m,\u001b[0m\u001b[0;34m\u001b[0m\u001b[0m\n\u001b[0;32m--> 110\u001b[0;31m                                             debug=True)\n\u001b[0m\u001b[1;32m    111\u001b[0m         \u001b[0;32mif\u001b[0m \u001b[0mbase\u001b[0m \u001b[0;34m!=\u001b[0m \u001b[0;32mFalse\u001b[0m \u001b[0;32mand\u001b[0m \u001b[0ms_next\u001b[0m \u001b[0;34m!=\u001b[0m \u001b[0;32mFalse\u001b[0m\u001b[0;34m:\u001b[0m\u001b[0;34m\u001b[0m\u001b[0m\n\u001b[1;32m    112\u001b[0m             \u001b[0ms\u001b[0m\u001b[0;34m=\u001b[0m\u001b[0ms_next\u001b[0m\u001b[0;34m\u001b[0m\u001b[0m\n",
      "\u001b[0;32m<ipython-input-6-401366e7ffb4>\u001b[0m in \u001b[0;36mpopulate_data_from_link\u001b[0;34m(base_prefix, next_suffix, debug, terminating_verse)\u001b[0m\n\u001b[1;32m     34\u001b[0m         \u001b[0mprint\u001b[0m\u001b[0;34m(\u001b[0m\u001b[0;34m\"Chapter: \"\u001b[0m\u001b[0;34m,\u001b[0m \u001b[0mverse\u001b[0m\u001b[0;34m.\u001b[0m\u001b[0msplit\u001b[0m\u001b[0;34m(\u001b[0m\u001b[0;34m\" \"\u001b[0m\u001b[0;34m)\u001b[0m\u001b[0;34m[\u001b[0m\u001b[0;36m1\u001b[0m\u001b[0;34m]\u001b[0m\u001b[0;34m.\u001b[0m\u001b[0msplit\u001b[0m\u001b[0;34m(\u001b[0m\u001b[0;34m\":\"\u001b[0m\u001b[0;34m)\u001b[0m\u001b[0;34m[\u001b[0m\u001b[0;36m0\u001b[0m\u001b[0;34m]\u001b[0m\u001b[0;34m)\u001b[0m\u001b[0;34m\u001b[0m\u001b[0m\n\u001b[1;32m     35\u001b[0m         \u001b[0mprint\u001b[0m\u001b[0;34m(\u001b[0m\u001b[0;34m\"Verse: \"\u001b[0m\u001b[0;34m,\u001b[0m \u001b[0mverse\u001b[0m\u001b[0;34m.\u001b[0m\u001b[0msplit\u001b[0m\u001b[0;34m(\u001b[0m\u001b[0;34m\" \"\u001b[0m\u001b[0;34m)\u001b[0m\u001b[0;34m[\u001b[0m\u001b[0;36m1\u001b[0m\u001b[0;34m]\u001b[0m\u001b[0;34m.\u001b[0m\u001b[0msplit\u001b[0m\u001b[0;34m(\u001b[0m\u001b[0;34m\":\"\u001b[0m\u001b[0;34m)\u001b[0m\u001b[0;34m[\u001b[0m\u001b[0;36m1\u001b[0m\u001b[0;34m]\u001b[0m\u001b[0;34m)\u001b[0m\u001b[0;34m\u001b[0m\u001b[0m\n\u001b[0;32m---> 36\u001b[0;31m     \u001b[0minput\u001b[0m\u001b[0;34m(\u001b[0m\u001b[0;34m\"...\"\u001b[0m\u001b[0;34m)\u001b[0m\u001b[0;34m\u001b[0m\u001b[0m\n\u001b[0m\u001b[1;32m     37\u001b[0m     \u001b[0;31m# Populate cross references\u001b[0m\u001b[0;34m\u001b[0m\u001b[0;34m\u001b[0m\u001b[0m\n\u001b[1;32m     38\u001b[0m     \u001b[0mcrossrefs\u001b[0m\u001b[0;34m=\u001b[0m\u001b[0;34m[\u001b[0m\u001b[0;34m]\u001b[0m\u001b[0;34m\u001b[0m\u001b[0m\n",
      "\u001b[0;32m~/anaconda3/lib/python3.6/site-packages/ipykernel/kernelbase.py\u001b[0m in \u001b[0;36mraw_input\u001b[0;34m(self, prompt)\u001b[0m\n\u001b[1;32m    702\u001b[0m             \u001b[0mself\u001b[0m\u001b[0;34m.\u001b[0m\u001b[0m_parent_ident\u001b[0m\u001b[0;34m,\u001b[0m\u001b[0;34m\u001b[0m\u001b[0m\n\u001b[1;32m    703\u001b[0m             \u001b[0mself\u001b[0m\u001b[0;34m.\u001b[0m\u001b[0m_parent_header\u001b[0m\u001b[0;34m,\u001b[0m\u001b[0;34m\u001b[0m\u001b[0m\n\u001b[0;32m--> 704\u001b[0;31m             \u001b[0mpassword\u001b[0m\u001b[0;34m=\u001b[0m\u001b[0;32mFalse\u001b[0m\u001b[0;34m,\u001b[0m\u001b[0;34m\u001b[0m\u001b[0m\n\u001b[0m\u001b[1;32m    705\u001b[0m         )\n\u001b[1;32m    706\u001b[0m \u001b[0;34m\u001b[0m\u001b[0m\n",
      "\u001b[0;32m~/anaconda3/lib/python3.6/site-packages/ipykernel/kernelbase.py\u001b[0m in \u001b[0;36m_input_request\u001b[0;34m(self, prompt, ident, parent, password)\u001b[0m\n\u001b[1;32m    732\u001b[0m             \u001b[0;32mexcept\u001b[0m \u001b[0mKeyboardInterrupt\u001b[0m\u001b[0;34m:\u001b[0m\u001b[0;34m\u001b[0m\u001b[0m\n\u001b[1;32m    733\u001b[0m                 \u001b[0;31m# re-raise KeyboardInterrupt, to truncate traceback\u001b[0m\u001b[0;34m\u001b[0m\u001b[0;34m\u001b[0m\u001b[0m\n\u001b[0;32m--> 734\u001b[0;31m                 \u001b[0;32mraise\u001b[0m \u001b[0mKeyboardInterrupt\u001b[0m\u001b[0;34m\u001b[0m\u001b[0m\n\u001b[0m\u001b[1;32m    735\u001b[0m             \u001b[0;32melse\u001b[0m\u001b[0;34m:\u001b[0m\u001b[0;34m\u001b[0m\u001b[0m\n\u001b[1;32m    736\u001b[0m                 \u001b[0;32mbreak\u001b[0m\u001b[0;34m\u001b[0m\u001b[0m\n",
      "\u001b[0;31mKeyboardInterrupt\u001b[0m: "
     ]
    }
   ],
   "source": [
    "\n",
    "\"\"\"\n",
    "Provided a base_prefix, and a next suffix, we can crawl the entire biblehub\n",
    "website to collect their bible versions, data, and cross references. The\n",
    "objective of this function is to be called in a loop-like fashion, updating the\n",
    "`next_suffix` part of the url. This should always start with a / because we simply\n",
    "want to do string addition and have a live url at any point. Makes things easier.\n",
    "Expected output should look like below:\n",
    "\n",
    "{\"NIV\":{\"Genesis 1:1\":(\"in the beginning god created ...\", [\"John 1:!\", \"Revelation 4:14, ...\"]),\n",
    "        \"Genesis 1:2\":(\"...\",[...])\n",
    "        ...}\n",
    " \"KJV\":{...},\n",
    " ...\n",
    " }\n",
    "\"\"\"\n",
    "def populate_data_from_link(base_prefix, next_suffix, \n",
    "                            debug=True, terminating_verse=\"Revelation 22:21\"):\n",
    "    \n",
    "    if debug:\n",
    "        print(\"Scraping text.\")\n",
    "        \n",
    "    # Get content\n",
    "    link=base_prefix+\"\"+next_suffix\n",
    "    page = requests.get(link)\n",
    "    soup = BeautifulSoup(page.text, 'html.parser')\n",
    "    \n",
    "    # Get verse\n",
    "    verse=soup.find(id=\"topheading\").text\n",
    "    verse=\" \".join(verse.split(\" \")[1:-1])\n",
    "    if debug:\n",
    "        print(\"Collecting data on \", verse)\n",
    "        print(\"Book: \", verse.split(\" \")[0])\n",
    "        print(\"Chapter: \", verse.split(\" \")[1].split(\":\")[0])\n",
    "        print(\"Verse: \", verse.split(\" \")[1].split(\":\")[1])\n",
    "\n",
    "    # Populate cross references\n",
    "    crossrefs=[]\n",
    "    for nested in soup.findAll(attrs={'crossverse'}): \n",
    "        crossrefs.append(nested.text)\n",
    "    \n",
    "    # Populate data \n",
    "    ## P.S. There does exist some wholes in Rev 22:7,8 and probably more.\n",
    "    ## In order to mitigate this, we should simply keep getting next sibling's text\n",
    "    ##   until it is another Tag object (or another THING we see a pattern form).\n",
    "    ## There may be more work to do here to correctly get 100% of each verse.\n",
    "    \n",
    "    def get_all_inner_content(nested):\n",
    "        content=\"\"\n",
    "        # Keep going until the next `Tag` you find has `href` as an attribute\n",
    "        sib=nested.nextSibling\n",
    "        while True:\n",
    "           #print(\"stuck\")\n",
    "            #print(sib)\n",
    "            #input(\"..\")\n",
    "            if isinstance(sib, bs4.element.Tag):\n",
    "                try:\n",
    "                    if sib[\"class\"][0]=='versiontext':\n",
    "                        break\n",
    "                except:\n",
    "                    pass\n",
    "                content+=sib.text\n",
    "            else:\n",
    "                content+=sib\n",
    "                \n",
    "            sib=sib.nextSibling\n",
    "            if sib is None:\n",
    "                break\n",
    "        # Keep getting next siblings Tag text or raw text until see we `class=textversion`\n",
    "        \n",
    "        return content\n",
    "    \n",
    "    for nested in soup.findAll(attrs={'versiontext'}):        \n",
    "        content=get_all_inner_content(nested)\n",
    "\n",
    "        # New, beta\n",
    "        version_dict[nested.text][verse]=[content, crossrefs, next_suffix]\n",
    "        # Old, chopy\n",
    "        #version_dict[nested.text][verse]=[str(nested.nextSibling.nextSibling), crossrefs]\n",
    "    \n",
    "        if debug:\n",
    "            print(\"Content: \", version_dict[nested.text][verse][0])\n",
    "            print(\"References:\" ,version_dict[nested.text][verse][1])\n",
    "    #print(version_dict)\n",
    "    \n",
    "    print()\n",
    "    # Set up next page to crawl\n",
    "    nextLink=\"\"\n",
    "    for thing in soup.find(id={'topheading'}):\n",
    "        if isinstance(thing, bs4.element.Tag):\n",
    "            nextLink=thing.get_attribute_list('href')[0]\n",
    "    next_suffix=nextLink\n",
    "    \n",
    "    if debug:\n",
    "        print(\"Next link \", str(base_prefix+next_suffix))\n",
    "    \n",
    "    if verse == terminating_verse:\n",
    "        return (False, False)\n",
    "    else:\n",
    "        return base_prefix,next_suffix\n",
    "\n",
    "    \n",
    "def crawl_link(base_prefix, next_suffix):\n",
    "    base=base_prefix\n",
    "    s=next_suffix\n",
    "    while True:\n",
    "\n",
    "        base,s_next=populate_data_from_link(base,\n",
    "                                            s,\n",
    "                                            debug=True)\n",
    "        if base != False and s_next != False:\n",
    "            s=s_next\n",
    "            print(\"Completed: \", base+s)\n",
    "            continue\n",
    "        else:\n",
    "            \"Finished data collection.\"\n",
    "            with open(\"bible_data_20181129_update.pkl\", \"wb\") as handle:\n",
    "                pickle.dump(version_dict, handle)\n",
    "            break\n",
    "    return version_dict\n",
    "\n",
    "base_prefix=\"https://biblehub.com\"\n",
    "next_suffix=\"/genesis/1-1.htm\" \n",
    "version_dict=defaultdict(dict)\n",
    "version_dict=crawl_link(base_prefix, next_suffix)"
   ]
  },
  {
   "cell_type": "code",
   "execution_count": 73,
   "metadata": {},
   "outputs": [
    {
     "data": {
      "text/plain": [
       "['Behold, I come quickly: blessed is he that keepeth the sayings of the prophecy of this book.',\n",
       " ['Revelation 1:3',\n",
       "  'Revelation 1:11',\n",
       "  'Revelation 2:16',\n",
       "  'Revelation 3:3',\n",
       "  'Revelation 3:11',\n",
       "  'Revelation 16:15',\n",
       "  'Revelation 22:9',\n",
       "  'Revelation 22:10',\n",
       "  'Revelation 22:12',\n",
       "  'Revelation 22:18',\n",
       "  'Revelation 22:19',\n",
       "  'Revelation 22:20',\n",
       "  'Revelation 22:21']]"
      ]
     },
     "execution_count": 73,
     "metadata": {},
     "output_type": "execute_result"
    }
   ],
   "source": [
    "\n",
    "version_dict[\"King James Bible\"][\"Revelation 22:7\"]\n"
   ]
  },
  {
   "cell_type": "markdown",
   "metadata": {},
   "source": [
    "## Sanity check\n",
    "\n",
    "Make sure that the stuff is being brought in correctly."
   ]
  },
  {
   "cell_type": "code",
   "execution_count": 74,
   "metadata": {},
   "outputs": [
    {
     "name": "stdout",
     "output_type": "stream",
     "text": [
      "(Revelation 22:21); The grace of our Lord Jesus Christ be with you all. Amen.\n",
      "Realted Verses:\n",
      "\n",
      "(Romans 16:20) And the God of peace shall bruise Satan under your feet shortly. The grace of our Lord Jesus Christ be with you. Amen.\n",
      "(Revelation 1:2) Who bare record of the word of God, and of the testimony of Jesus Christ, and of all things that he saw.\n",
      "(Revelation 22:7) Behold, I come quickly: blessed is he that keepeth the sayings of the prophecy of this book.\n"
     ]
    }
   ],
   "source": [
    "import numpy as np\n",
    "\n",
    "print(\"(Revelation 22:21);\", version_dict[\"King James Bible\"]['Revelation 22:21'][0])\n",
    "print(\"Realted Verses:\\n\")\n",
    "for cf in version_dict[\"King James Bible\"]['Revelation 22:21'][1]:\n",
    "    print(\"(\" + cf+ \")\",version_dict[\"King James Bible\"][cf][0])"
   ]
  },
  {
   "cell_type": "code",
   "execution_count": 198,
   "metadata": {},
   "outputs": [
    {
     "data": {
      "text/plain": [
       "['And when the day began to wear away, then came the twelve, and said unto him, Send the multitude away, that they may go into the towns and country round about, and lodge, and get victuals: for we are here in a desert place.',\n",
       " ['Matthew 14:13', 'Luke 9:11', 'Luke 9:13', 'Philippians 1:19']]"
      ]
     },
     "execution_count": 198,
     "metadata": {},
     "output_type": "execute_result"
    }
   ],
   "source": [
    "version_dict[\"King James Bible\"][\"Luke 9:12\"]"
   ]
  },
  {
   "cell_type": "code",
   "execution_count": 267,
   "metadata": {},
   "outputs": [
    {
     "name": "stdout",
     "output_type": "stream",
     "text": [
      "30\n"
     ]
    },
    {
     "data": {
      "text/plain": [
       "0"
      ]
     },
     "execution_count": 267,
     "metadata": {},
     "output_type": "execute_result"
    }
   ],
   "source": [
    "with open(\"bible_data.pkl\", \"rb\") as handle:\n",
    "    bible_data=pickle.load(handle)\n",
    "\n",
    "print(len(bible_data.items())) #version count\n",
    "len(bible_data[\"Revelation 21:7\"])"
   ]
  },
  {
   "cell_type": "code",
   "execution_count": 47,
   "metadata": {},
   "outputs": [
    {
     "ename": "NameError",
     "evalue": "name 'NoneType' is not defined",
     "output_type": "error",
     "traceback": [
      "\u001b[0;31m---------------------------------------------------------------------------\u001b[0m",
      "\u001b[0;31mNameError\u001b[0m                                 Traceback (most recent call last)",
      "\u001b[0;32m<ipython-input-47-4903a55cb50f>\u001b[0m in \u001b[0;36m<module>\u001b[0;34m()\u001b[0m\n\u001b[1;32m      1\u001b[0m \u001b[0mx\u001b[0m\u001b[0;34m=\u001b[0m\u001b[0;32mNone\u001b[0m\u001b[0;34m\u001b[0m\u001b[0m\n\u001b[1;32m      2\u001b[0m \u001b[0mx\u001b[0m\u001b[0;34m=\u001b[0m\u001b[0mtype\u001b[0m\u001b[0;34m(\u001b[0m\u001b[0mx\u001b[0m\u001b[0;34m)\u001b[0m\u001b[0;34m\u001b[0m\u001b[0m\n\u001b[0;32m----> 3\u001b[0;31m \u001b[0mx\u001b[0m\u001b[0;34m==\u001b[0m\u001b[0mNoneType\u001b[0m\u001b[0;34m\u001b[0m\u001b[0m\n\u001b[0m",
      "\u001b[0;31mNameError\u001b[0m: name 'NoneType' is not defined"
     ]
    }
   ],
   "source": [
    "x=None\n",
    "x=type(x)\n",
    "x==NoneType"
   ]
  },
  {
   "cell_type": "code",
   "execution_count": 41,
   "metadata": {},
   "outputs": [
    {
     "ename": "AttributeError",
     "evalue": "type object 'type' has no attribute 'NoneType'",
     "output_type": "error",
     "traceback": [
      "\u001b[0;31m---------------------------------------------------------------------------\u001b[0m",
      "\u001b[0;31mAttributeError\u001b[0m                            Traceback (most recent call last)",
      "\u001b[0;32m<ipython-input-41-caaf53e978d9>\u001b[0m in \u001b[0;36m<module>\u001b[0;34m()\u001b[0m\n\u001b[0;32m----> 1\u001b[0;31m \u001b[0mtype\u001b[0m\u001b[0;34m.\u001b[0m\u001b[0mNoneType\u001b[0m\u001b[0;34m\u001b[0m\u001b[0m\n\u001b[0m",
      "\u001b[0;31mAttributeError\u001b[0m: type object 'type' has no attribute 'NoneType'"
     ]
    }
   ],
   "source": []
  },
  {
   "cell_type": "code",
   "execution_count": null,
   "metadata": {},
   "outputs": [],
   "source": []
  }
 ],
 "metadata": {
  "kernelspec": {
   "display_name": "Python 3",
   "language": "python",
   "name": "python3"
  },
  "language_info": {
   "codemirror_mode": {
    "name": "ipython",
    "version": 3
   },
   "file_extension": ".py",
   "mimetype": "text/x-python",
   "name": "python",
   "nbconvert_exporter": "python",
   "pygments_lexer": "ipython3",
   "version": "3.6.5"
  }
 },
 "nbformat": 4,
 "nbformat_minor": 2
}
